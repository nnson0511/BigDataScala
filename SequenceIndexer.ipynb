{
 "cells": [
  {
   "cell_type": "code",
   "execution_count": 71,
   "metadata": {},
   "outputs": [],
   "source": [
    "import os\n",
    "import sys\n",
    "\n",
    "os.environ['PYSPARK_PYTHON'] = sys.executable\n",
    "os.environ['PYSPARK_DRIVER_PYTHON'] = sys.executable"
   ]
  },
  {
   "cell_type": "code",
   "execution_count": 72,
   "metadata": {},
   "outputs": [],
   "source": [
    "from pyspark.sql import SparkSession\n",
    "from pyspark.sql.functions import col, explode, split, collect_set\n",
    "from pyspark.ml import Transformer\n",
    "from pyspark.ml.param.shared import HasInputCol, HasOutputCol, Param\n",
    "from pyspark.sql.functions import udf\n",
    "from pyspark.sql.types import ArrayType, IntegerType\n",
    "\n",
    "class SequenceIndexer(Transformer, HasInputCol, HasOutputCol):\n",
    "    \n",
    "    def __init__(self, dictionary, maxLength=20, inputCol=None, outputCol=None):\n",
    "        super(SequenceIndexer, self).__init__()\n",
    "        self.dictionary = dictionary\n",
    "        self.maxLength = maxLength\n",
    "        self.broadcastDict = SparkSession.builder.getOrCreate().sparkContext.broadcast(self.dictionary)\n",
    "        \n",
    "        # Initialize Params\n",
    "        self.inputCol = Param(self, \"inputCol\", \"\")\n",
    "        self.outputCol = Param(self, \"outputCol\", \"\")\n",
    "        \n",
    "        # Set Params\n",
    "        if inputCol:\n",
    "            self._set(inputCol=inputCol)\n",
    "        if outputCol:\n",
    "            self._set(outputCol=outputCol)\n",
    "    \n",
    "    def _transform(self, dataset):\n",
    "        brDict = self.broadcastDict.value\n",
    "        input_col = self.getInputCol()\n",
    "        output_col = self.getOutputCol()\n",
    "        \n",
    "        def map_sequence(seq):\n",
    "            t = [brDict.get(token, 0) for token in seq]\n",
    "            if len(t) >= self.maxLength:\n",
    "                return t[:self.maxLength]\n",
    "            else:\n",
    "                return t + [len(brDict)] * (self.maxLength - len(t))\n",
    "        \n",
    "        map_udf = udf(map_sequence, ArrayType(IntegerType()))\n",
    "        return dataset.withColumn(output_col, map_udf(col(input_col)))\n"
   ]
  },
  {
   "cell_type": "code",
   "execution_count": 73,
   "metadata": {},
   "outputs": [
    {
     "data": {
      "text/plain": [
       "[Row(tweet='$GM: Deutsche Bank cuts to Hold https://t.co/7Fv1ZiFZBS', sentiment=2, url='https://huggingface.co/datasets/zeroshot/twitter-financial-news-sentiment'),\n",
       " Row(tweet='$MDCO: Oppenheimer cuts to Perform', sentiment=2, url='https://huggingface.co/datasets/zeroshot/twitter-financial-news-sentiment'),\n",
       " Row(tweet='$MSGN - Imperial downgrades MSG Networks amid sports-free airwaves https://t.co/Ul2S6XNXw8', sentiment=2, url='https://huggingface.co/datasets/zeroshot/twitter-financial-news-sentiment'),\n",
       " Row(tweet='Canada Goose stock price target cut to $50 from $65 at CFRA', sentiment=2, url='https://huggingface.co/datasets/zeroshot/twitter-financial-news-sentiment'),\n",
       " Row(tweet=\"Disney downgraded as analyst says parks attendance could take 2 years to 'normalize' https://t.co/InJKourtW3\", sentiment=2, url='https://huggingface.co/datasets/zeroshot/twitter-financial-news-sentiment'),\n",
       " Row(tweet='Evercore downgrades bluebird bio and Clovis in premarket analyst action', sentiment=2, url='https://huggingface.co/datasets/zeroshot/twitter-financial-news-sentiment'),\n",
       " Row(tweet=\"FormFactor cut on 'unsustainable' revenue outlook\", sentiment=2, url='https://huggingface.co/datasets/zeroshot/twitter-financial-news-sentiment'),\n",
       " Row(tweet='Hanesbrands stock price target cut to $13 vs. $16 at BofA Merrill Lynch', sentiment=2, url='https://huggingface.co/datasets/zeroshot/twitter-financial-news-sentiment'),\n",
       " Row(tweet=\"Kohl's stock price target cut to $48 from $52 at Deutsche Bank\", sentiment=2, url='https://huggingface.co/datasets/zeroshot/twitter-financial-news-sentiment'),\n",
       " Row(tweet='Mid-America Apartment Communities downgraded to sector weight from overweight at KeyBanc Capital', sentiment=2, url='https://huggingface.co/datasets/zeroshot/twitter-financial-news-sentiment')]"
      ]
     },
     "execution_count": 73,
     "metadata": {},
     "output_type": "execute_result"
    }
   ],
   "source": [
    "# Khởi tạo SparkSession\n",
    "spark = SparkSession.builder \\\n",
    "    .appName(\"SequenceIndexerExample\") \\\n",
    "    .master(\"local[*]\")\\\n",
    "    .config(\"spark.driver.memory\", \"16g\") \\\n",
    "    .config(\"spark.executor.memory\", \"16g\") \\\n",
    "    .config(\"spark.executor.cores\", \"4\") \\\n",
    "    .config(\"spark.task.cpus\", \"2\") \\\n",
    "    .config(\"spark.sql.shuffle.partitions\", \"8\") \\\n",
    "    .getOrCreate()\n",
    "\n",
    "# Đọc dữ liệu từ file parquet\n",
    "df = spark.read.parquet(\"dat/sa.parquet\").sample(fraction=0.1, seed=42)\n",
    "df.head(10)"
   ]
  },
  {
   "cell_type": "code",
   "execution_count": 74,
   "metadata": {},
   "outputs": [
    {
     "data": {
      "text/plain": [
       "[Row(word='$GM:'),\n",
       " Row(word='Deutsche'),\n",
       " Row(word='Bank'),\n",
       " Row(word='cuts'),\n",
       " Row(word='to'),\n",
       " Row(word='Hold'),\n",
       " Row(word='https://t.co/7Fv1ZiFZBS'),\n",
       " Row(word='$MDCO:'),\n",
       " Row(word='Oppenheimer'),\n",
       " Row(word='cuts')]"
      ]
     },
     "execution_count": 74,
     "metadata": {},
     "output_type": "execute_result"
    }
   ],
   "source": [
    "# Tách các từ trong cột \"tweet\" thành các từ đơn lẻ và tạo dictionary\n",
    "words_df = df.select(explode(split(col(\"tweet\"), \"\\\\s+\")).alias(\"word\"))\n",
    "words_df.head(10)"
   ]
  },
  {
   "cell_type": "code",
   "execution_count": 75,
   "metadata": {},
   "outputs": [],
   "source": [
    "words_list = words_df.select(\"word\").distinct().agg(collect_set(\"word\")).collect()[0][0]\n",
    "dictionary = {word: idx + 1 for idx, word in enumerate(words_list)}"
   ]
  },
  {
   "cell_type": "code",
   "execution_count": 76,
   "metadata": {},
   "outputs": [],
   "source": [
    "df = df.withColumn(\"words\", split(col(\"tweet\"), \"\\\\s+\"))\n",
    "\n",
    "# Sử dụng SequenceIndexer\n",
    "maxLength = 20\n",
    "indexer = SequenceIndexer(dictionary, maxLength, inputCol=\"words\", outputCol=\"indexed\")\n",
    "\n",
    "# Áp dụng SequenceIndexer lên DataFrame\n",
    "indexed_df = indexer.transform(df)"
   ]
  },
  {
   "cell_type": "code",
   "execution_count": 77,
   "metadata": {},
   "outputs": [
    {
     "name": "stdout",
     "output_type": "stream",
     "text": [
      "+------------------------------------------------------------------------------------------------------------+-------------------------------------------------------------------------------------------------------------------------------------------+\n",
      "|tweet                                                                                                       |indexed                                                                                                                                    |\n",
      "+------------------------------------------------------------------------------------------------------------+-------------------------------------------------------------------------------------------------------------------------------------------+\n",
      "|$GM: Deutsche Bank cuts to Hold https://t.co/7Fv1ZiFZBS                                                     |[863, 10450, 17038, 14660, 3801, 6134, 17433, 19514, 19514, 19514, 19514, 19514, 19514, 19514, 19514, 19514, 19514, 19514, 19514, 19514]   |\n",
      "|$MDCO: Oppenheimer cuts to Perform                                                                          |[5850, 14252, 14660, 3801, 8457, 19514, 19514, 19514, 19514, 19514, 19514, 19514, 19514, 19514, 19514, 19514, 19514, 19514, 19514, 19514]  |\n",
      "|$MSGN - Imperial downgrades MSG Networks amid sports-free airwaves https://t.co/Ul2S6XNXw8                  |[13542, 12483, 15528, 8901, 378, 240, 13604, 11330, 5718, 10326, 19514, 19514, 19514, 19514, 19514, 19514, 19514, 19514, 19514, 19514]     |\n",
      "|Canada Goose stock price target cut to $50 from $65 at CFRA                                                 |[5731, 6868, 11255, 9923, 5457, 16368, 3801, 7095, 486, 6450, 3406, 13642, 19514, 19514, 19514, 19514, 19514, 19514, 19514, 19514]         |\n",
      "|Disney downgraded as analyst says parks attendance could take 2 years to 'normalize' https://t.co/InJKourtW3|[15314, 6725, 4231, 14357, 2862, 13152, 13940, 18447, 8388, 2425, 10773, 3801, 13297, 6920, 19514, 19514, 19514, 19514, 19514, 19514]      |\n",
      "|Evercore downgrades bluebird bio and Clovis in premarket analyst action                                     |[8565, 8901, 12398, 13290, 9476, 8627, 11294, 4303, 14357, 8631, 19514, 19514, 19514, 19514, 19514, 19514, 19514, 19514, 19514, 19514]     |\n",
      "|FormFactor cut on 'unsustainable' revenue outlook                                                           |[17706, 16368, 4847, 10409, 8686, 17447, 19514, 19514, 19514, 19514, 19514, 19514, 19514, 19514, 19514, 19514, 19514, 19514, 19514, 19514] |\n",
      "|Hanesbrands stock price target cut to $13 vs. $16 at BofA Merrill Lynch                                     |[8587, 11255, 9923, 5457, 16368, 3801, 1544, 1638, 2028, 3406, 10374, 10364, 2514, 19514, 19514, 19514, 19514, 19514, 19514, 19514]        |\n",
      "|Kohl's stock price target cut to $48 from $52 at Deutsche Bank                                              |[12871, 11255, 9923, 5457, 16368, 3801, 5714, 486, 12867, 3406, 10450, 17038, 19514, 19514, 19514, 19514, 19514, 19514, 19514, 19514]      |\n",
      "|Mid-America Apartment Communities downgraded to sector weight from overweight at KeyBanc Capital            |[5661, 334, 14963, 6725, 3801, 8071, 14867, 486, 11862, 3406, 7994, 7882, 19514, 19514, 19514, 19514, 19514, 19514, 19514, 19514]          |\n",
      "|Napco Security stock price target cut to $30 from $35 at Imperial Capital                                   |[13207, 19353, 11255, 9923, 5457, 16368, 3801, 3847, 486, 3860, 3406, 15528, 7882, 19514, 19514, 19514, 19514, 19514, 19514, 19514]        |\n",
      "|Rio Tinto downgraded to neutral from overweight at J.P. Morgan                                              |[14681, 17230, 6725, 3801, 11382, 486, 11862, 3406, 16307, 1081, 19514, 19514, 19514, 19514, 19514, 19514, 19514, 19514, 19514, 19514]     |\n",
      "|Royal Caribbean downgraded to sell from buy at CFRA                                                         |[8166, 8207, 6725, 3801, 739, 486, 19225, 3406, 13642, 19514, 19514, 19514, 19514, 19514, 19514, 19514, 19514, 19514, 19514, 19514]        |\n",
      "|Royal Caribbean stock price target cut to $100 from $135 at CFRA                                            |[8166, 8207, 11255, 9923, 5457, 16368, 3801, 15724, 486, 16098, 3406, 13642, 19514, 19514, 19514, 19514, 19514, 19514, 19514, 19514]       |\n",
      "|Sherwin-Williams cut from Conviction Buy at Goldman on valuation                                            |[8144, 16368, 486, 15156, 3348, 3406, 2931, 4847, 18238, 19514, 19514, 19514, 19514, 19514, 19514, 19514, 19514, 19514, 19514, 19514]      |\n",
      "|Wells Fargo Downgrades Netflix On Spending Concerns                                                         |[870, 14700, 15815, 15496, 18674, 13449, 7232, 19514, 19514, 19514, 19514, 19514, 19514, 19514, 19514, 19514, 19514, 19514, 19514, 19514]  |\n",
      "|$ANCUF: BMO Capital Markets ups to Outperform                                                               |[13359, 4773, 7882, 15001, 8566, 3801, 13593, 19514, 19514, 19514, 19514, 19514, 19514, 19514, 19514, 19514, 19514, 19514, 19514, 19514]   |\n",
      "|$GOOS: Barclays starts at Overweight                                                                        |[11230, 13168, 15830, 3406, 16690, 19514, 19514, 19514, 19514, 19514, 19514, 19514, 19514, 19514, 19514, 19514, 19514, 19514, 19514, 19514]|\n",
      "|$JD: Barclays ups to Overweight                                                                             |[11103, 13168, 8566, 3801, 16690, 19514, 19514, 19514, 19514, 19514, 19514, 19514, 19514, 19514, 19514, 19514, 19514, 19514, 19514, 19514] |\n",
      "|Analysts Mostly Bullish On Newly Public Insurance Firm BRP Group                                            |[2323, 8458, 7570, 18674, 17657, 10792, 19177, 17213, 15898, 7378, 19514, 19514, 19514, 19514, 19514, 19514, 19514, 19514, 19514, 19514]   |\n",
      "+------------------------------------------------------------------------------------------------------------+-------------------------------------------------------------------------------------------------------------------------------------------+\n",
      "only showing top 20 rows\n",
      "\n"
     ]
    }
   ],
   "source": [
    "# Hiển thị kết quả để kiểm tra\n",
    "indexed_df.select(\"tweet\", \"indexed\").show(truncate=False)\n"
   ]
  },
  {
   "cell_type": "code",
   "execution_count": 78,
   "metadata": {},
   "outputs": [],
   "source": [
    "\n",
    "# Dừng SparkSession\n",
    "spark.stop()"
   ]
  }
 ],
 "metadata": {
  "kernelspec": {
   "display_name": "base",
   "language": "python",
   "name": "python3"
  },
  "language_info": {
   "codemirror_mode": {
    "name": "ipython",
    "version": 3
   },
   "file_extension": ".py",
   "mimetype": "text/x-python",
   "name": "python",
   "nbconvert_exporter": "python",
   "pygments_lexer": "ipython3",
   "version": "3.9.18"
  }
 },
 "nbformat": 4,
 "nbformat_minor": 2
}
