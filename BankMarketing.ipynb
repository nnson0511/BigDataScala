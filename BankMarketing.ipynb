{
 "cells": [
  {
   "cell_type": "code",
   "execution_count": null,
   "metadata": {},
   "outputs": [],
   "source": [
    "from pyspark.sql import SparkSession\n",
    "from pyspark.ml.feature import StringIndexer, OneHotEncoder, VectorAssembler, StandardScaler\n",
    "from pyspark.ml.classification import LogisticRegression\n",
    "from pyspark.ml import Pipeline\n",
    "from pyspark.ml.evaluation import BinaryClassificationEvaluator\n",
    "\n",
    "def main():\n",
    "    spark = SparkSession.builder.appName(\"BankMarketing\").master(\"local[*]\").getOrCreate()\n",
    "    spark.sparkContext.setLogLevel(\"WARN\")\n",
    "\n",
    "    df = spark.read.options(delimiter=\";\", header=\"true\", inferSchema=\"true\").csv(\"dat/full.csv\")\n",
    "    integer_cols = [f.name for f in df.schema.fields if isinstance(f.dataType, (IntegerType, DoubleType))]\n",
    "\n",
    "    marital_indexer = StringIndexer(inputCol=\"marital\", outputCol=\"mIdx\")\n",
    "    marital_encoder = OneHotEncoder(inputCol=\"mIdx\", outputCol=\"mVector\", dropLast=False)\n",
    "    education_indexer = StringIndexer(inputCol=\"education\", outputCol=\"eIdx\")\n",
    "    education_encoder = OneHotEncoder(inputCol=\"eIdx\", outputCol=\"eVector\", dropLast=False)\n",
    "\n",
    "    assembler = VectorAssembler(inputCols=[\"mVector\", \"eVector\"] + integer_cols, outputCol=\"features\")\n",
    "    label_indexer = StringIndexer(inputCol=\"y\", outputCol=\"label\")\n",
    "    scaler = StandardScaler(inputCol=\"features\", outputCol=\"scaledFeatures\", withStd=True, withMean=False)\n",
    "    regression = LogisticRegression(featuresCol=\"scaledFeatures\", labelCol=\"label\")\n",
    "\n",
    "    pipeline = Pipeline(stages=[marital_indexer, marital_encoder, education_indexer, \n",
    "                                education_encoder, assembler, label_indexer, scaler, regression])\n",
    "\n",
    "    training, validation = df.randomSplit([0.8, 0.2])\n",
    "\n",
    "    pipeline_model = pipeline.fit(training)\n",
    "\n",
    "    ef = pipeline_model.transform(training)\n",
    "    ef.select(\"marital\", \"education\", \"features\", \"label\", \"prediction\").show(truncate=False)\n",
    "    pipeline_model.write().overwrite().save(\"bin/model\")\n",
    "    ef.select(\"rawPrediction\", \"prediction\", \"label\").show()\n",
    "\n",
    "    ff = pipeline_model.transform(validation)\n",
    "\n",
    "    evaluator = BinaryClassificationEvaluator()\n",
    "    area_under_roc = evaluator.evaluate(ef)\n",
    "    area_under_roc_validation = evaluator.evaluate(ff)\n",
    "\n",
    "    print(f\"areaUnderROC (training) = {area_under_roc}\")\n",
    "    print(f\"areaUnderROC (validation) = {area_under_roc_validation}\")\n",
    "\n",
    "    spark.stop()\n",
    "\n",
    "if __name__ == \"__main__\":\n",
    "    main()\n"
   ]
  }
 ],
 "metadata": {
  "language_info": {
   "name": "python"
  }
 },
 "nbformat": 4,
 "nbformat_minor": 2
}
