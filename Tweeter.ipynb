{
 "cells": [
  {
   "cell_type": "code",
   "execution_count": 8,
   "metadata": {},
   "outputs": [],
   "source": [
    "from pyspark.sql import SparkSession\n",
    "from pyspark.ml.classification import LogisticRegression\n",
    "from pyspark.ml.feature import Tokenizer, NGram, CountVectorizer, IDF\n",
    "from pyspark.ml import Pipeline\n",
    "from pyspark.ml.evaluation import MulticlassClassificationEvaluator\n",
    "\n",
    "spark = SparkSession.builder \\\n",
    "    .appName(\"SequenceIndexerExample\") \\\n",
    "    .master(\"local[*]\") \\\n",
    "    .config(\"spark.driver.memory\", \"16g\") \\\n",
    "    .config(\"spark.executor.memory\", \"16g\") \\\n",
    "    .config(\"spark.executor.cores\", \"4\") \\\n",
    "    .config(\"spark.task.cpus\", \"2\") \\\n",
    "    .config(\"spark.sql.shuffle.partitions\", \"8\") \\\n",
    "    .getOrCreate()\n",
    "spark.sparkContext.setLogLevel(\"ERROR\")\n"
   ]
  },
  {
   "cell_type": "code",
   "execution_count": 10,
   "metadata": {},
   "outputs": [
    {
     "data": {
      "text/plain": [
       "[Row(tweet='$BYND - JPMorgan reels in expectations on Beyond Meat https://t.co/bd0xbFGjkT', sentiment=2, url='https://huggingface.co/datasets/zeroshot/twitter-financial-news-sentiment'),\n",
       " Row(tweet='$CCL $RCL - Nomura points to bookings weakness at Carnival and Royal Caribbean https://t.co/yGjpT2ReD3', sentiment=2, url='https://huggingface.co/datasets/zeroshot/twitter-financial-news-sentiment'),\n",
       " Row(tweet='$CX - Cemex cut at Credit Suisse, J.P. Morgan on weak building outlook https://t.co/KN1g4AWFIb', sentiment=2, url='https://huggingface.co/datasets/zeroshot/twitter-financial-news-sentiment'),\n",
       " Row(tweet='$ESS: BTIG Research cuts to Neutral https://t.co/MCyfTsXc2N', sentiment=2, url='https://huggingface.co/datasets/zeroshot/twitter-financial-news-sentiment'),\n",
       " Row(tweet='$FNKO - Funko slides after Piper Jaffray PT cut https://t.co/z37IJmCQzB', sentiment=2, url='https://huggingface.co/datasets/zeroshot/twitter-financial-news-sentiment'),\n",
       " Row(tweet='$FTI - TechnipFMC downgraded at Berenberg but called Top Pick at Deutsche Bank https://t.co/XKcPDilIuU', sentiment=2, url='https://huggingface.co/datasets/zeroshot/twitter-financial-news-sentiment'),\n",
       " Row(tweet='$GM - GM loses a bull https://t.co/tdUfG5HbXy', sentiment=2, url='https://huggingface.co/datasets/zeroshot/twitter-financial-news-sentiment'),\n",
       " Row(tweet='$GM: Deutsche Bank cuts to Hold https://t.co/7Fv1ZiFZBS', sentiment=2, url='https://huggingface.co/datasets/zeroshot/twitter-financial-news-sentiment'),\n",
       " Row(tweet='$GTT: Cowen cuts to Market Perform', sentiment=2, url='https://huggingface.co/datasets/zeroshot/twitter-financial-news-sentiment'),\n",
       " Row(tweet='$HNHAF $HNHPD $AAPL - Trendforce cuts iPhone estimate after Foxconn delay https://t.co/rlnEwzlzzS', sentiment=2, url='https://huggingface.co/datasets/zeroshot/twitter-financial-news-sentiment')]"
      ]
     },
     "execution_count": 10,
     "metadata": {},
     "output_type": "execute_result"
    }
   ],
   "source": [
    "df = spark.read.parquet(\"dat/sa.parquet\")\n",
    "df.head(10)"
   ]
  },
  {
   "cell_type": "code",
   "execution_count": 11,
   "metadata": {},
   "outputs": [
    {
     "name": "stdout",
     "output_type": "stream",
     "text": [
      "+---------+\n",
      "|sentiment|\n",
      "+---------+\n",
      "|        0|\n",
      "|        1|\n",
      "|        2|\n",
      "+---------+\n",
      "\n"
     ]
    }
   ],
   "source": [
    "unique_sentiments = df.select(\"sentiment\").distinct()\n",
    "unique_sentiments.show()"
   ]
  },
  {
   "cell_type": "code",
   "execution_count": 12,
   "metadata": {},
   "outputs": [],
   "source": [
    "tokenizer = Tokenizer(inputCol=\"tweet\", outputCol=\"tokens\")\n",
    "ngrams = NGram(n=2, inputCol=\"tokens\", outputCol=\"bigrams\")\n",
    "\n",
    "vectorizer = CountVectorizer(inputCol=\"bigrams\", outputCol=\"x\", minDF=5)\n",
    "idf = IDF(inputCol=\"x\", outputCol=\"features\")\n",
    "logreg = LogisticRegression(featuresCol=\"features\", labelCol=\"sentiment\")\n",
    "\n",
    "pipeline = Pipeline(stages=[tokenizer, ngrams, vectorizer, idf, logreg])"
   ]
  },
  {
   "cell_type": "code",
   "execution_count": 13,
   "metadata": {},
   "outputs": [
    {
     "name": "stdout",
     "output_type": "stream",
     "text": [
      "+---------+----------+\n",
      "|sentiment|prediction|\n",
      "+---------+----------+\n",
      "|        2|       2.0|\n",
      "|        2|       2.0|\n",
      "|        2|       2.0|\n",
      "|        2|       2.0|\n",
      "|        2|       2.0|\n",
      "|        2|       2.0|\n",
      "|        2|       2.0|\n",
      "|        2|       2.0|\n",
      "|        2|       2.0|\n",
      "|        2|       1.0|\n",
      "|        2|       1.0|\n",
      "|        2|       2.0|\n",
      "|        2|       2.0|\n",
      "|        2|       2.0|\n",
      "|        2|       2.0|\n",
      "|        2|       0.0|\n",
      "|        2|       2.0|\n",
      "|        2|       2.0|\n",
      "|        2|       1.0|\n",
      "|        2|       2.0|\n",
      "+---------+----------+\n",
      "only showing top 20 rows\n",
      "\n",
      "F1 score = 0.8753736511902163\n"
     ]
    }
   ],
   "source": [
    "model = pipeline.fit(df)\n",
    "ef = model.transform(df)\n",
    "\n",
    "ef.select(\"sentiment\", \"prediction\").show()\n",
    "\n",
    "evaluator = MulticlassClassificationEvaluator(labelCol=\"sentiment\")\n",
    "f1 = evaluator.evaluate(ef)\n",
    "print(f\"F1 score = {f1}\")\n",
    "\n",
    "spark.stop()"
   ]
  }
 ],
 "metadata": {
  "kernelspec": {
   "display_name": "base",
   "language": "python",
   "name": "python3"
  },
  "language_info": {
   "codemirror_mode": {
    "name": "ipython",
    "version": 3
   },
   "file_extension": ".py",
   "mimetype": "text/x-python",
   "name": "python",
   "nbconvert_exporter": "python",
   "pygments_lexer": "ipython3",
   "version": "3.9.18"
  }
 },
 "nbformat": 4,
 "nbformat_minor": 2
}
